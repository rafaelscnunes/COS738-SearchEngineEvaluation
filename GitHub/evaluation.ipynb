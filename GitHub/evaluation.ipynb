{
 "cells": [
  {
   "cell_type": "code",
   "execution_count": 1,
   "metadata": {
    "collapsed": true,
    "deletable": true,
    "editable": true
   },
   "outputs": [],
   "source": [
    "import matplotlib.pyplot as plt\n",
    "import matplotlib.patches as mpatches\n",
    "import math\n",
    "import operator\n",
    "import numpy as np"
   ]
  },
  {
   "cell_type": "code",
   "execution_count": 2,
   "metadata": {
    "collapsed": true,
    "deletable": true,
    "editable": true
   },
   "outputs": [],
   "source": [
    "# Loading all results (with and without PorterStemer) and relevants\n",
    "f_resultados = './NoStemmer/out/resultados_noStemmer.csv'\n",
    "f_resultados_ps = './PorterStemmer/out/resultados_PorterStemmer.csv'\n",
    "f_esperados = './NoStemmer/out/esperados_noStemmer.csv'\n",
    "\n",
    "queries = {}  # without PorterStemer\n",
    "for line in open(f_resultados, 'r'):\n",
    "    if line.lower() != 'querynumber;[rank, document, similarity]\\n':\n",
    "        line = line.rstrip('\\n')\n",
    "        query = int(line.split(';')[0])\n",
    "        result = line.split(';')[1].lstrip('[').rstrip(']')\\\n",
    "                 .replace(' ', '').split(',')\n",
    "        if query not in queries:\n",
    "            queries[query] = {}\n",
    "        if int(result[1]) not in queries[query]:\n",
    "            queries[query][int(result[1])] = float(result[2])\n",
    "\n",
    "queries_ps = {}  # with PorterStemer\n",
    "for line in open(f_resultados_ps, 'r'):\n",
    "    if line.lower() != 'querynumber;[rank, document, similarity]\\n':\n",
    "        line = line.rstrip('\\n')\n",
    "        query = int(line.split(';')[0])\n",
    "        result = line.split(';')[1].lstrip('[').rstrip(']')\\\n",
    "                 .replace(' ', '').split(',')\n",
    "        if query not in queries_ps:\n",
    "            queries_ps[query] = {}\n",
    "        if int(result[1]) not in queries_ps[query]:\n",
    "            queries_ps[query][int(result[1])] = float(result[2])\n",
    "\n",
    "esperados = {}  # Relevants\n",
    "for line in open(f_esperados, 'r'):\n",
    "    if line.lower() != 'querynumber;docnumber;docvotes\\n':\n",
    "        line = line.rstrip('\\n')\n",
    "        if int(line.split(';')[0]) not in esperados:\n",
    "            esperados[int(line.split(';')[0])] = {}\n",
    "        if int(line.split(';')[1]) not in esperados[int(line.split(';')[0])]:\n",
    "            esperados[int(line.split(';')[0])][int(line.split(';')[1])] = \\\n",
    "                int(line.split(';')[2])"
   ]
  },
  {
   "cell_type": "code",
   "execution_count": 3,
   "metadata": {
    "collapsed": true,
    "deletable": true,
    "editable": true
   },
   "outputs": [],
   "source": [
    "def relevant(doc, esperados):\n",
    "    if doc in esperados:\n",
    "        return esperados[doc]\n",
    "    else:\n",
    "        return 0\n",
    "\n",
    "def true_positive(a, b):\n",
    "    \"\"\" Return quantity of TP - True Positives\n",
    "        What is in A and B\n",
    "        being A the set of Positive prediction\n",
    "        and B the set of Actual Positive \"\"\"\n",
    "\n",
    "    tp = 0\n",
    "    for item in a:\n",
    "        if item in b:\n",
    "            tp += 1\n",
    "    return tp\n",
    "\n",
    "def false_positive(a, b):\n",
    "    \"\"\" Return quantity FP - False Positives\n",
    "        What is in A and not in B\n",
    "        being A the set of Positive prediction\n",
    "        and B the set of Actual Positive \"\"\"\n",
    "\n",
    "    fp = 0\n",
    "    for item in a:\n",
    "        if item not in b:\n",
    "            fp += 1\n",
    "    return fp\n",
    "\n",
    "def num_docs(a):\n",
    "    \"\"\" Return a dict with all the documents returned in all\n",
    "        queries \"\"\"\n",
    "\n",
    "    full_prediction_set = {}\n",
    "    for item in a:\n",
    "        for doc in a[item]:\n",
    "            if doc not in full_prediction_set:\n",
    "                full_prediction_set[doc] = 0\n",
    "            full_prediction_set[doc] += 1\n",
    "    return full_prediction_set\n",
    "\n",
    "def true_negative(a, b, full_set):\n",
    "    \"\"\" Return quantity TN - True Negative\n",
    "            What is not in A and is not in B but is in full_set\n",
    "            being A the set of Positive prediction\n",
    "            B the set of Actual Positive\n",
    "            and full_set the set of all documents in all search results \"\"\"\n",
    "\n",
    "    tn = 0\n",
    "    neg = {}\n",
    "    full_prediction_set = num_docs(full_set)\n",
    "    for item in full_prediction_set:\n",
    "        if item not in b:\n",
    "            neg[item] = 1\n",
    "\n",
    "    for item in neg:\n",
    "        if item not in a:\n",
    "            tn += 1\n",
    "    return tn\n",
    "\n",
    "def false_negative(a, b):\n",
    "    \"\"\" Return quantity FN - False Negative\n",
    "        What is not in A and is in B\n",
    "        being A the set of Positive prediction\n",
    "        and B the set of Actual Positive \"\"\"\n",
    "\n",
    "    fn = 0\n",
    "    for item in b:\n",
    "        if item not in a:\n",
    "            fn += 1\n",
    "    return fn\n",
    "\n",
    "def get_recall(results, relevants, max_rank):\n",
    "    count = 0\n",
    "    considered_results = []\n",
    "    for doc in results:\n",
    "        count += 1\n",
    "        if count <= max_rank:\n",
    "            considered_results.append(doc)\n",
    "        else:\n",
    "            break\n",
    "\n",
    "    # Evaluating Recall\n",
    "    TP = true_positive(considered_results, relevants)\n",
    "    recall = TP / len(relevants)\n",
    "\n",
    "    return recall\n",
    "\n",
    "def get_precision(results, relevants, max_rank):\n",
    "    count = 0\n",
    "    considered_results = []\n",
    "    for doc in results:\n",
    "        count += 1\n",
    "        if count <= max_rank:\n",
    "            considered_results.append(doc)\n",
    "        else:\n",
    "            break\n",
    "\n",
    "    # Evaluating Precision\n",
    "    TP = true_positive(considered_results, relevants)\n",
    "    if len(considered_results) > 0:\n",
    "        precision = TP / len(considered_results)\n",
    "    else:\n",
    "        precision = 0.0\n",
    "\n",
    "    return precision\n",
    "\n",
    "def interpolation(queries, recall_levels, esperados):\n",
    "    \"\"\" Returns a dict({<Recall Level>: <Mean Precision>})\n",
    "        with one precision value (mean) for each recall level\n",
    "    \"\"\"\n",
    "\n",
    "    # Evaluate precision for each query within all recall levels\n",
    "    precision = {}\n",
    "    for level in range(0, len(recall_levels)):\n",
    "        recall_level = recall_levels[level]\n",
    "        precision[recall_level] = {}\n",
    "        for query in queries:\n",
    "            max_results = int(len(esperados[query]) * recall_level)\n",
    "            precision[recall_level][query] = get_precision(queries[query],\n",
    "                                                           esperados[query],\n",
    "                                                           max_results)\n",
    "            # count = 0\n",
    "            # results = []\n",
    "            # for doc in queries[query]:\n",
    "            #     count += 1\n",
    "            #     if count <= max_results:\n",
    "            #         results.append(doc)\n",
    "            #     else:\n",
    "            #         break\n",
    "            # TP = true_positive(results, esperados[query])\n",
    "            # if len(results) > 0:\n",
    "            #     precision[recall_level][query] = TP / len(results)\n",
    "            # else:\n",
    "            #     precision[recall_level][query] = 0\n",
    "    # print(precision)\n",
    "\n",
    "    # Convert all zero precision into the maximum precision on the greater\n",
    "    # levels\n",
    "    for query in queries:\n",
    "        for level in range(0, len(recall_levels)):\n",
    "            if precision[recall_levels[level]][query] == 0:\n",
    "                for r in range(level, len(recall_levels)):\n",
    "                    if precision[recall_levels[r]][query] > \\\n",
    "                       precision[recall_levels[level]][query]:\n",
    "                        precision[recall_levels[level]][\n",
    "                            query] = precision[recall_levels[r]][query]\n",
    "    # print(precision)\n",
    "\n",
    "    # Evaluate the mean of all query precisions of a given recall level\n",
    "    avg_precision = {}\n",
    "    for level in recall_levels:\n",
    "        avg_precision[level] = 0\n",
    "        for query in queries:\n",
    "            avg_precision[level] += precision[level][query]\n",
    "        avg_precision[level] /= len(queries)\n",
    "    # print(avg_precision)\n",
    "\n",
    "    return avg_precision\n",
    "\n",
    "def precision_at(queries, esperados, rank):\n",
    "    precision = {}\n",
    "    for query in queries:\n",
    "        precision[query] = get_precision(queries[query],\n",
    "                                         esperados[query],\n",
    "                                         rank)\n",
    "    avg_precision = 0\n",
    "    for query in queries:\n",
    "        avg_precision += precision[query]\n",
    "    avg_precision /= len(queries)\n",
    "    return avg_precision\n",
    "\n",
    "def f1score_at(queries, esperados, recall_level):\n",
    "    f1 = {}\n",
    "    for query in queries:\n",
    "        max_rank = int(len(esperados[query]) * recall_level)\n",
    "        precision = get_precision(queries[query], esperados[query], max_rank)\n",
    "        recall = get_recall(queries[query], esperados[query], max_rank)\n",
    "        # Evaluating F1-score\n",
    "        if (precision + recall) > 0:\n",
    "            f1[query] = 2 * (precision * recall) / (precision + recall)\n",
    "        else:\n",
    "            f1[query] = 0\n",
    "    return f1\n",
    "\n",
    "def avg(list):\n",
    "    mean, count = 0, 0\n",
    "    for i in list:\n",
    "        count += 1\n",
    "        mean += list[i]\n",
    "    mean /= count\n",
    "    return mean\n",
    "\n",
    "# Mean Reciprocal Rank\n",
    "def mrr(queries, esperados):\n",
    "    ReciprocalRank = {}\n",
    "    for query in queries:\n",
    "        rank = 0\n",
    "        results = []\n",
    "        for doc in queries[query]:\n",
    "            rank += 1\n",
    "            if doc in esperados[query]:\n",
    "                break\n",
    "        ReciprocalRank[query] = 1 / rank\n",
    "    mean_ReciprocalRank = 0\n",
    "    for query in queries:\n",
    "        mean_ReciprocalRank += ReciprocalRank[query]\n",
    "    mean_ReciprocalRank /= len(queries)\n",
    "    return mean_ReciprocalRank\n",
    "\n",
    "# Cumulative Gain (CG)\n",
    "def cg(queries, esperados):\n",
    "    CumulativeGain = {}\n",
    "    for query in queries:\n",
    "        cc = 0\n",
    "        rank = 0\n",
    "        results = []\n",
    "        for doc in queries[query]:\n",
    "            rank += 1\n",
    "            if doc in esperados[query]:\n",
    "                cc += esperados[query][doc]\n",
    "        CumulativeGain[query] = cc\n",
    "    mean_CumulativeGain = 0\n",
    "    for query in queries:\n",
    "        mean_CumulativeGain += CumulativeGain[query]\n",
    "    mean_CumulativeGain /= len(queries)\n",
    "    return (mean_CumulativeGain, CumulativeGain)\n",
    "\n",
    "# Discounted Cumulative Gain (DCG)\n",
    "def dcg(queries, esperados):\n",
    "    DiscountedCumulativeGain = {}\n",
    "    for query in queries:\n",
    "        dcg = 0\n",
    "        rank = 0\n",
    "        results = []\n",
    "        for doc in queries[query]:\n",
    "            rank += 1\n",
    "            if doc in esperados[query]:\n",
    "                dcg += esperados[query][doc] / (math.log2(rank + 1))\n",
    "        DiscountedCumulativeGain[query] = dcg\n",
    "    mean_DiscountedCumulativeGain = 0\n",
    "    for query in queries:\n",
    "        mean_DiscountedCumulativeGain += DiscountedCumulativeGain[query]\n",
    "    mean_DiscountedCumulativeGain /= len(queries)\n",
    "    return (mean_DiscountedCumulativeGain, DiscountedCumulativeGain)\n",
    "\n",
    "# Alternative Discounted Cumulative Gain (aDCG)\n",
    "def Alt_dcg(queries, esperados):\n",
    "    DiscountedCumulativeGain = {}\n",
    "    for query in queries:\n",
    "        dcg = 0\n",
    "        rank = 0\n",
    "        results = []\n",
    "        for doc in queries[query]:\n",
    "            rank += 1\n",
    "            if doc in esperados[query]:\n",
    "                dcg += ((2 ^ esperados[query][doc])-1) / (math.log2(rank + 1))\n",
    "        DiscountedCumulativeGain[query] = dcg\n",
    "    mean_DiscountedCumulativeGain = 0\n",
    "    for query in queries:\n",
    "        mean_DiscountedCumulativeGain += DiscountedCumulativeGain[query]\n",
    "    mean_DiscountedCumulativeGain /= len(queries)\n",
    "    return (mean_DiscountedCumulativeGain, DiscountedCumulativeGain)\n",
    "\n",
    "# Normalized Alternative Discounted Cumulative Gain (nDCG)\n",
    "def nAlt_dcg(queries, esperados):\n",
    "    nDiscountedCumulativeGain = {}\n",
    "    for query in queries:\n",
    "        idcg = 0\n",
    "        esperados_sorted = sorted(esperados[query].items(),\n",
    "                                  key = operator.itemgetter(1),\n",
    "                                  reverse = True)\n",
    "        for i in range(0, len(esperados_sorted)):\n",
    "            rank = i + 1\n",
    "            idcg += ((2 ^ esperados_sorted[i][1])-1) / (math.log2(rank + 1))\n",
    "        dcg = 0\n",
    "        rank = 0\n",
    "        for doc in queries[query]:\n",
    "            rank += 1\n",
    "            if doc in esperados[query]:\n",
    "                dcg += ((2 ^ esperados[query][doc])-1) / (math.log2(rank + 1))\n",
    "        nDiscountedCumulativeGain[query] = dcg / idcg\n",
    "    mean_nDiscountedCumulativeGain = 0\n",
    "    for query in queries:\n",
    "        mean_nDiscountedCumulativeGain += nDiscountedCumulativeGain[query]\n",
    "    mean_nDiscountedCumulativeGain /= len(queries)\n",
    "    return (mean_nDiscountedCumulativeGain, nDiscountedCumulativeGain)\n",
    "\n",
    "# bpref\n",
    "def bpref_measure(queries, esperados):\n",
    "    \"\"\"\n",
    "    :param queries: list of list containing ranked returned documents by query\n",
    "    :param esperados: list of list containing relevant documents by query\n",
    "    :return: list of bpref value for each query\n",
    "\n",
    "    Implements:\n",
    "    bpref = (1/R) * sum(1 - |n ranked higher than r|/R)\n",
    "    \"\"\"\n",
    "    bpref = {}\n",
    "    for query in queries:\n",
    "        R = len(esperados[query]) # the number of judged relevant documents\n",
    "        N = 0 # the count of irrelevants until one relevant\n",
    "        S = 0 # the sum of (1 - count/min(R, N))\n",
    "        for doc in esperados[query]:\n",
    "            if doc in queries[query]:\n",
    "                S += (1 - N / R)\n",
    "            else:\n",
    "                N += 1\n",
    "        bpref[query] = S / R\n",
    "    return bpref"
   ]
  },
  {
   "cell_type": "code",
   "execution_count": 4,
   "metadata": {
    "collapsed": false,
    "deletable": true,
    "editable": true
   },
   "outputs": [
    {
     "data": {
      "image/png": "[encoded data removed]",
      "text/plain": [
       "<matplotlib.figure.Figure at 0x10647a320>"
      ]
     },
     "metadata": {},
     "output_type": "display_data"
    }
   ],
   "source": [
    "# Gráfico de precisão em 11 níveis de revocação\n",
    "# recall_levels = [0.0, 0.05, 0.1, 0.15, 0.2, 0.25, 0.3, 0.35, 0.4, 0.45, 0.5,\n",
    "#                  0.55, 0.6, 0.65, 0.7, 0.75, 0.8, 0.85, 0.9, 0.95, 1.0]\n",
    "recall_levels = [0.0, 0.1, 0.2, 0.3, 0.4, 0.5, 0.6, 0.7, 0.8, 0.9, 1.0]\n",
    "noStemmerRP = interpolation(queries, recall_levels, esperados)\n",
    "PorterStemmerRP = interpolation(queries_ps, recall_levels, esperados)\n",
    "plt.figure(1)\n",
    "plt.plot(*zip(*sorted(noStemmerRP.items())), label = 'without PorterStemer')\n",
    "plt.plot(*zip(*sorted(PorterStemmerRP.items())), label = 'with PorterStemer')\n",
    "plt.xlabel('Recall level')\n",
    "plt.ylabel('Average Precision')\n",
    "plt.title('Recall-Precision 11 points curve (all)')\n",
    "plt.legend(loc = 'best')\n",
    "plt.show()"
   ]
  },
  {
   "cell_type": "code",
   "execution_count": 5,
   "metadata": {
    "collapsed": false,
    "deletable": true,
    "editable": true
   },
   "outputs": [
    {
     "name": "stdout",
     "output_type": "stream",
     "text": [
      "F1-score @ 70% recall without PorterStemer: 0.2702282188525496\n",
      "F1-score @ 70% recall with PorterStemer: 0.2884605139407687\n"
     ]
    },
    {
     "data": {
      "image/png": "[encoded data removed]",
      "text/plain": [
       "<matplotlib.figure.Figure at 0x1074027b8>"
      ]
     },
     "metadata": {},
     "output_type": "display_data"
    }
   ],
   "source": [
    "# F1-Score\n",
    "noStemmerF1 = f1score_at(queries, esperados, 0.7)\n",
    "PorterStemmerF1 = f1score_at(queries_ps, esperados, 0.7)\n",
    "print('F1-score @ 70% recall without PorterStemer: ' +\n",
    "      str(avg(noStemmerF1)))\n",
    "print('F1-score @ 70% recall with PorterStemer: ' +\n",
    "      str(avg(PorterStemmerF1)))\n",
    "plt.figure(2)\n",
    "plt.bar(*zip(*sorted(noStemmerF1.items())), label = 'without PorterStemer')\n",
    "plt.bar(*zip(*sorted(PorterStemmerF1.items())), label = 'with PorterStemer')\n",
    "plt.xlabel('Queries')\n",
    "plt.ylabel('F1-score')\n",
    "plt.title('F1-score @ 70% recall')\n",
    "plt.legend(loc = 'best')\n",
    "plt.show()"
   ]
  },
  {
   "cell_type": "code",
   "execution_count": 6,
   "metadata": {
    "collapsed": false,
    "deletable": true,
    "editable": true
   },
   "outputs": [
    {
     "name": "stdout",
     "output_type": "stream",
     "text": [
      "MAP without PorterStemer: 0.42931477142978786\n",
      "MAP with PorterStemer: 0.4617735407057358\n"
     ]
    }
   ],
   "source": [
    "# MAP - Mean Average Precision\n",
    "noStemmerMAP = avg(noStemmerRP)\n",
    "PorterStemmerMAP = avg(PorterStemmerRP)\n",
    "print('MAP without PorterStemer: ' + str(noStemmerMAP))\n",
    "print('MAP with PorterStemer: ' + str(PorterStemmerMAP))"
   ]
  },
  {
   "cell_type": "code",
   "execution_count": 7,
   "metadata": {
    "collapsed": false,
    "deletable": true,
    "editable": true
   },
   "outputs": [
    {
     "name": "stdout",
     "output_type": "stream",
     "text": [
      "Precision @ 5 without PorterStemer: 0.501010101010101\n",
      "Precision @ 10 without PorterStemer: 0.417171717171717\n",
      "Precision @ 5 with PorterStemer: 0.5575757575757576\n",
      "Precision @ 10 with PorterStemer: 0.4545454545454544\n"
     ]
    }
   ],
   "source": [
    "# P@5 & P@10\n",
    "noStemmerP_at_5 = precision_at(queries, esperados, 5)\n",
    "print('Precision @ 5 without PorterStemer: ' + str(noStemmerP_at_5))\n",
    "noStemmerP_at_10 = precision_at(queries, esperados, 10)\n",
    "print('Precision @ 10 without PorterStemer: ' + str(noStemmerP_at_10))\n",
    "PorterStemmer_at_5 = precision_at(queries_ps, esperados, 5)\n",
    "print('Precision @ 5 with PorterStemer: ' + str(PorterStemmer_at_5))\n",
    "PorterStemmer_at_10 = precision_at(queries_ps, esperados, 10)\n",
    "print('Precision @ 10 with PorterStemer: ' + str(PorterStemmer_at_10))"
   ]
  },
  {
   "cell_type": "code",
   "execution_count": 8,
   "metadata": {
    "collapsed": false,
    "deletable": true,
    "editable": true
   },
   "outputs": [
    {
     "data": {
      "image/png": "[encoded data removed]",
      "text/plain": [
       "<matplotlib.figure.Figure at 0x107677d30>"
      ]
     },
     "metadata": {},
     "output_type": "display_data"
    }
   ],
   "source": [
    "# Gráfico RPA/B\n",
    "RP_AB = {}\n",
    "for query in queries:\n",
    "    max_rank = len(esperados[query])\n",
    "    noStemmerP = get_precision(queries[query], esperados[query], max_rank)\n",
    "    PorterStemmerP = get_precision(queries_ps[query], esperados[query],\n",
    "                                   max_rank)\n",
    "    RP_AB[query] = PorterStemmerP - noStemmerP\n",
    "plt.figure(3)\n",
    "plt.gca().yaxis.grid()\n",
    "plt.gca().xaxis.grid()\n",
    "rect = plt.bar(*zip(*sorted(RP_AB.items())), align='center')\n",
    "plt.yticks(np.arange(-0.4, 0.5, 0.1))\n",
    "plt.xlabel('Query')\n",
    "plt.ylabel('Recall-Precision A/B')\n",
    "plt.title('Recall-Precision A/B by Query')\n",
    "a_patch = mpatches.Patch(label='Recall @ 100%')\n",
    "b_patch = mpatches.Patch(label='PorterStemmer - noStemmer')\n",
    "plt.legend(handles=[a_patch, b_patch], loc = 'best')\n",
    "# plt.legend(loc = 'best')\n",
    "plt.show()"
   ]
  },
  {
   "cell_type": "code",
   "execution_count": 9,
   "metadata": {
    "collapsed": false,
    "deletable": true,
    "editable": true
   },
   "outputs": [
    {
     "name": "stdout",
     "output_type": "stream",
     "text": [
      "MRR without Porter Stemmer: 0.7660532258571474\n",
      "MRR with Porter Stemmer: 0.791447051973368\n"
     ]
    }
   ],
   "source": [
    "# MRR - Mean Reciprocal Rank\n",
    "noStemmerMRR = mrr(queries, esperados)\n",
    "print('MRR without Porter Stemmer: ' + str(noStemmerMRR))\n",
    "PorterStemmerMRR = mrr(queries_ps, esperados)\n",
    "print('MRR with Porter Stemmer: ' + str(PorterStemmerMRR))"
   ]
  },
  {
   "cell_type": "code",
   "execution_count": 10,
   "metadata": {
    "collapsed": false,
    "deletable": true,
    "editable": true
   },
   "outputs": [
    {
     "name": "stdout",
     "output_type": "stream",
     "text": [
      "Mean Normalized Discounted Cumulative Gain without PorterStemmer = 0.5995801636512855\n",
      "Mean Normalized Discounted Cumulative Gain with PorterStemmer = 0.618253827874451\n"
     ]
    },
    {
     "data": {
      "image/png": "[encoded data removed]",
      "text/plain": [
       "<matplotlib.figure.Figure at 0x105d4fb00>"
      ]
     },
     "metadata": {},
     "output_type": "display_data"
    }
   ],
   "source": [
    "# Normalized DCG - Discounted Cumulative Gain\n",
    "noPorter_nDCG = nAlt_dcg(queries, esperados)\n",
    "print('Mean Normalized Discounted Cumulative Gain without PorterStemmer = ' +\n",
    "      str(noPorter_nDCG[0]))\n",
    "\n",
    "PorterStemmer_nDCG = nAlt_dcg(queries_ps, esperados)\n",
    "print('Mean Normalized Discounted Cumulative Gain with PorterStemmer = ' +\n",
    "      str(PorterStemmer_nDCG[0]))\n",
    "\n",
    "plt.figure(4)\n",
    "plt.bar(*zip(*sorted(noPorter_nDCG[1].items())),\n",
    "        label = 'without PorterStemer')\n",
    "plt.bar(*zip(*sorted(PorterStemmer_nDCG[1].items())),\n",
    "        label = 'with PorterStemer')\n",
    "plt.xlabel('Queries')\n",
    "plt.ylabel('Normalized Discounted Cumulative Gain')\n",
    "plt.title('Normalized Discounted Cumulative Gain by Query')\n",
    "plt.legend(loc = 'best')\n",
    "plt.show()"
   ]
  },
  {
   "cell_type": "code",
   "execution_count": 11,
   "metadata": {
    "collapsed": false,
    "deletable": true,
    "editable": true
   },
   "outputs": [
    {
     "data": {
      "image/png": "[encoded data removed]",
      "text/plain": [
       "<matplotlib.figure.Figure at 0x107b54470>"
      ]
     },
     "metadata": {},
     "output_type": "display_data"
    }
   ],
   "source": [
    "# bpref\n",
    "noStemmer_bpref = bpref_measure(queries, esperados)\n",
    "PorterStemmer_bpref = bpref_measure(queries_ps, esperados)\n",
    "plt.figure(5)\n",
    "plt.bar(*zip(*sorted(noStemmer_bpref.items())),\n",
    "        label = 'without PorterStemer')\n",
    "plt.bar(*zip(*sorted(PorterStemmer_bpref.items())),\n",
    "        label = 'with PorterStemer')\n",
    "plt.plot(*zip(*sorted(noStemmer_bpref.items())),\n",
    "        label = 'without PorterStemer')\n",
    "plt.plot(*zip(*sorted(PorterStemmer_bpref.items())),\n",
    "        label = 'with PorterStemer')\n",
    "plt.xlabel('Queries')\n",
    "plt.ylabel('bpref')\n",
    "plt.title('bpref measure by Query')\n",
    "plt.legend(loc = 'best')\n",
    "plt.show()"
   ]
  },
  {
   "cell_type": "code",
   "execution_count": null,
   "metadata": {
    "collapsed": true
   },
   "outputs": [],
   "source": []
  }
 ],
 "metadata": {
  "kernelspec": {
   "display_name": "Python 3",
   "language": "python",
   "name": "python3"
  },
  "language_info": {
   "codemirror_mode": {
    "name": "ipython",
    "version": 3
   },
   "file_extension": ".py",
   "mimetype": "text/x-python",
   "name": "python",
   "nbconvert_exporter": "python",
   "pygments_lexer": "ipython3",
   "version": "3.6.1"
  }
 },
 "nbformat": 4,
 "nbformat_minor": 2
}
